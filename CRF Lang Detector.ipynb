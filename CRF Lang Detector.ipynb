{
 "cells": [
  {
   "cell_type": "code",
   "execution_count": 565,
   "metadata": {},
   "outputs": [],
   "source": [
    "import pandas as pd\n",
    "import pickle\n",
    "import seaborn as sns\n",
    "%matplotlib inline\n",
    "import matplotlib.pyplot as plt\n",
    "plt.style.use('ggplot')\n",
    "\n",
    "from itertools import chain\n",
    "from collections import Counter, OrderedDict, defaultdict\n",
    "from pprint import pprint\n",
    "import re\n",
    "\n",
    "import nltk\n",
    "import sklearn\n",
    "import scipy.stats\n",
    "from sklearn.metrics import make_scorer\n",
    "from sklearn.cross_validation import cross_val_score\n",
    "from sklearn.grid_search import RandomizedSearchCV\n",
    "from sklearn.cluster import KMeans\n",
    "\n",
    "import sklearn_crfsuite\n",
    "from sklearn_crfsuite import scorers\n",
    "from sklearn_crfsuite import metrics\n",
    "\n",
    "from keras.preprocessing.text import one_hot, text_to_word_sequence, Tokenizer\n",
    "from keras.preprocessing.sequence import pad_sequences\n",
    "\n",
    "from tqdm import tqdm\n",
    "\n",
    "import numpy as np\n",
    "import itertools\n",
    "import unicodedata\n",
    "\n",
    "import joblib\n",
    "import pickle"
   ]
  },
  {
   "cell_type": "markdown",
   "metadata": {},
   "source": [
    "# Helpers"
   ]
  },
  {
   "cell_type": "code",
   "execution_count": 2,
   "metadata": {},
   "outputs": [],
   "source": [
    "def char_ngrams(word, start=2, end=4):\n",
    "    try:\n",
    "        assert end > start\n",
    "    except AssertionError:\n",
    "        print('Start should be greater that end!')\n",
    "    \n",
    "    n_grams = []\n",
    "    for i in range(start, end + 1):\n",
    "        for j in range(len(word) - i + 1):\n",
    "            n_grams.append(word[j:j + i])\n",
    "    if len(n_grams) == 0:\n",
    "        n_grams = [word]\n",
    "    return n_grams"
   ]
  },
  {
   "cell_type": "code",
   "execution_count": 3,
   "metadata": {},
   "outputs": [],
   "source": [
    "def char_embeddings(ngrams):\n",
    "    chars = [' '.join(ngrams)]\n",
    "    vocab_size = 100\n",
    "    encoded_chars = [one_hot(c, vocab_size) for c in chars]\n",
    "    max_length = 50\n",
    "    padded_chars = pad_sequences(encoded_chars, maxlen=max_length, padding='post')\n",
    "    return padded_chars[0].tobytes()"
   ]
  },
  {
   "cell_type": "code",
   "execution_count": 482,
   "metadata": {},
   "outputs": [],
   "source": [
    "def word2features(sent, i):\n",
    "    word = unicodedata.normalize(\"NFKD\", sent[i])\n",
    "    word = word.strip(' .!?\",:-;%#*“”«»\\t\\n')\n",
    "    \n",
    "    features = {\n",
    "        'word.lower()': word.lower(),\n",
    "        'len(word)': len(word),\n",
    "        #'word[-3:]': word[-3:],\n",
    "        #'word[-2:]': word[-2:],\n",
    "        'word n-grams': char_ngrams(word.lower(), 1, 3)\n",
    "        #'word char embeddings': char_embeddings(list(''.join(char_ngrams(word))))\n",
    "    }\n",
    "    \n",
    "    if i > 1:\n",
    "        word1 = unicodedata.normalize(\"NFKD\", sent[i-1])\n",
    "        word1 = word1.strip(' .!?\",:-;%#*“”«»\\t\\n')\n",
    "        features.update({\n",
    "            '-1:word.lower()': word1.lower(),\n",
    "            '-1:word n-grams': char_ngrams(word1.lower(), 1, 3)\n",
    "            #'-1:word char embeddings': char_embeddings(list(''.join(char_ngrams(word1))))\n",
    "        })\n",
    "    else:\n",
    "        features['BOS'] = True\n",
    "        \n",
    "    \n",
    "        \n",
    "    if i < len(sent)-2:\n",
    "        word1 = unicodedata.normalize(\"NFKD\", sent[i+1])\n",
    "        word1 = word1.strip(' .!?\",:-;%#*“”«»\\t\\n')\n",
    "        features.update({\n",
    "            '+1:word.lower()': word1.lower(),\n",
    "            '+1:word n-grams': char_ngrams(word1.lower(), 1, 3)\n",
    "            #'+1:word char embeddings': char_embeddings(list(''.join(char_ngrams(word1))))\n",
    "        })\n",
    "    else:\n",
    "        features['EOS'] = True\n",
    "    return features"
   ]
  },
  {
   "cell_type": "code",
   "execution_count": 5,
   "metadata": {},
   "outputs": [],
   "source": [
    "def sent2features(sent):\n",
    "    return [word2features(sent, i) for i in range(len(sent))]"
   ]
  },
  {
   "cell_type": "code",
   "execution_count": 6,
   "metadata": {},
   "outputs": [],
   "source": [
    "def predict_language(crf, test_sent):\n",
    "    test_features = sent2features(test_sent.split(' '))\n",
    "    X_sent = []\n",
    "    for i in range(len(test_features)):\n",
    "        X_sent.append([test_features[i]])\n",
    "    preds = crf.predict(X_sent)\n",
    "    tokens = test_sent.split(' ')\n",
    "    sentence = []\n",
    "    for i in range(len(preds)):\n",
    "        sentence.append((tokens[i], preds[i][0]))\n",
    "    return sentence"
   ]
  },
  {
   "cell_type": "code",
   "execution_count": 474,
   "metadata": {},
   "outputs": [],
   "source": [
    "MODEL_FILE = 'crf_lang_detect_ngrams_no_wiki_2window.pkl'\n",
    "LANG_DATA_FILE = 'lang_data_no_wiki.pkl2'"
   ]
  },
  {
   "cell_type": "markdown",
   "metadata": {},
   "source": [
    "# Обучение классификатора"
   ]
  },
  {
   "cell_type": "code",
   "execution_count": 21,
   "metadata": {},
   "outputs": [],
   "source": [
    "langs = {'ru': 0, 'tt': 1, 'ba': 2, 'sah': 3, 'udm': 4}\n",
    "id_to_lang = {v: k for k, v in langs.items()}"
   ]
  },
  {
   "cell_type": "code",
   "execution_count": 117,
   "metadata": {},
   "outputs": [
    {
     "ename": "FileNotFoundError",
     "evalue": "[Errno 2] No such file or directory: 'lang_data_no_wiki.pkl2'",
     "output_type": "error",
     "traceback": [
      "\u001b[1;31m---------------------------------------------------------------------------\u001b[0m",
      "\u001b[1;31mFileNotFoundError\u001b[0m                         Traceback (most recent call last)",
      "\u001b[1;32m<ipython-input-117-d612c674bedc>\u001b[0m in \u001b[0;36m<module>\u001b[1;34m()\u001b[0m\n\u001b[1;32m----> 1\u001b[1;33m \u001b[0mtexts\u001b[0m \u001b[1;33m=\u001b[0m \u001b[0mpickle\u001b[0m\u001b[1;33m.\u001b[0m\u001b[0mload\u001b[0m\u001b[1;33m(\u001b[0m\u001b[0mopen\u001b[0m\u001b[1;33m(\u001b[0m\u001b[0mLANG_DATA_FILE\u001b[0m\u001b[1;33m,\u001b[0m \u001b[1;34m'rb'\u001b[0m\u001b[1;33m)\u001b[0m\u001b[1;33m)\u001b[0m\u001b[1;33m\u001b[0m\u001b[0m\n\u001b[0m",
      "\u001b[1;31mFileNotFoundError\u001b[0m: [Errno 2] No such file or directory: 'lang_data_no_wiki.pkl2'"
     ]
    }
   ],
   "source": [
    "texts = pickle.load(open(LANG_DATA_FILE, 'rb'))"
   ]
  },
  {
   "cell_type": "code",
   "execution_count": 483,
   "metadata": {},
   "outputs": [],
   "source": [
    "data = {'lang': [], 'text': []}\n",
    "for lang in langs.keys():\n",
    "    raw_texts = open('LSTM/LSTM/{}.txt'.format(lang), encoding='utf-8').read().split('\\n')\n",
    "    for text in raw_texts:\n",
    "        if len(text) > 50 and len(text) < 200:\n",
    "            data['lang'].append(lang)\n",
    "            data['text'].append(text)\n",
    "        elif len(text) > 50:\n",
    "            data['lang'].append(lang)\n",
    "            data['text'].append(' '.join(text[:200].split()[:-1]))\n",
    "texts = pd.DataFrame(data=data)"
   ]
  },
  {
   "cell_type": "code",
   "execution_count": 484,
   "metadata": {},
   "outputs": [
    {
     "name": "stdout",
     "output_type": "stream",
     "text": [
      "37500\n"
     ]
    }
   ],
   "source": [
    "from sklearn.utils import shuffle\n",
    "new_texts = pd.concat([shuffle(texts.query('lang == \"{}\"'.format(lang)))[:7500] for lang in ['ru', 'tt', 'ba', 'udm', 'sah']])\n",
    "new_texts = new_texts.sample(frac=1).reset_index(drop=True)\n",
    "print(len(new_texts.text))"
   ]
  },
  {
   "cell_type": "code",
   "execution_count": 485,
   "metadata": {},
   "outputs": [
    {
     "data": {
      "text/plain": [
       "'ru'"
      ]
     },
     "execution_count": 485,
     "metadata": {},
     "output_type": "execute_result"
    }
   ],
   "source": [
    "texts.lang[10000]"
   ]
  },
  {
   "cell_type": "code",
   "execution_count": 486,
   "metadata": {},
   "outputs": [
    {
     "name": "stderr",
     "output_type": "stream",
     "text": [
      "100%|███████████████████████████████████████████████████████████████████████████| 37500/37500 [00:47<00:00, 797.37it/s]\n"
     ]
    }
   ],
   "source": [
    "sent2features(new_texts.text[0].split(' '))\n",
    "X_all = [sent2features(s.split(' ')) for s in tqdm(new_texts.text)]"
   ]
  },
  {
   "cell_type": "code",
   "execution_count": 487,
   "metadata": {},
   "outputs": [
    {
     "data": {
      "text/plain": [
       "'tt'"
      ]
     },
     "execution_count": 487,
     "metadata": {},
     "output_type": "execute_result"
    }
   ],
   "source": [
    "y_all = [label for label in new_texts.lang]\n",
    "y_all[1000]"
   ]
  },
  {
   "cell_type": "code",
   "execution_count": 488,
   "metadata": {},
   "outputs": [],
   "source": [
    "X = []\n",
    "y = []\n",
    "for i in range(len(X_all)):\n",
    "    for f in range(len(X_all[i])):\n",
    "        X.append([X_all[i][f]])\n",
    "        y.append([y_all[i]])"
   ]
  },
  {
   "cell_type": "code",
   "execution_count": 168,
   "metadata": {},
   "outputs": [],
   "source": [
    "from sklearn.model_selection import train_test_split\n",
    "?train_test_split"
   ]
  },
  {
   "cell_type": "code",
   "execution_count": 489,
   "metadata": {},
   "outputs": [],
   "source": [
    "X_train, X_test, y_train, y_test = train_test_split(X, y, test_size=0.33, random_state=42)"
   ]
  },
  {
   "cell_type": "code",
   "execution_count": 490,
   "metadata": {},
   "outputs": [
    {
     "data": {
      "text/plain": [
       "([{'+1:word n-grams': ['ч', 'т', 'о', 'чт', 'то', 'что'],\n",
       "   '+1:word.lower()': 'что',\n",
       "   '-1:word n-grams': ['а',\n",
       "    'н',\n",
       "    'а',\n",
       "    'л',\n",
       "    'и',\n",
       "    'з',\n",
       "    'и',\n",
       "    'р',\n",
       "    'о',\n",
       "    'в',\n",
       "    'а',\n",
       "    'т',\n",
       "    'ь',\n",
       "    'ан',\n",
       "    'на',\n",
       "    'ал',\n",
       "    'ли',\n",
       "    'из',\n",
       "    'зи',\n",
       "    'ир',\n",
       "    'ро',\n",
       "    'ов',\n",
       "    'ва',\n",
       "    'ат',\n",
       "    'ть',\n",
       "    'ана',\n",
       "    'нал',\n",
       "    'али',\n",
       "    'лиз',\n",
       "    'изи',\n",
       "    'зир',\n",
       "    'иро',\n",
       "    'ров',\n",
       "    'ова',\n",
       "    'ват',\n",
       "    'ать'],\n",
       "   '-1:word.lower()': 'анализировать',\n",
       "   'len(word)': 2,\n",
       "   'word n-grams': ['т', 'о', 'то'],\n",
       "   'word.lower()': 'то'}],\n",
       " ['ru'])"
      ]
     },
     "execution_count": 490,
     "metadata": {},
     "output_type": "execute_result"
    }
   ],
   "source": [
    "X_train[4], y_train[4]"
   ]
  },
  {
   "cell_type": "code",
   "execution_count": 491,
   "metadata": {},
   "outputs": [
    {
     "name": "stdout",
     "output_type": "stream",
     "text": [
      "Wall time: 5min 6s\n"
     ]
    }
   ],
   "source": [
    "%%time\n",
    "crf = sklearn_crfsuite.CRF(\n",
    "    algorithm='lbfgs',\n",
    "    c1=0.1,\n",
    "    c2=0.1,\n",
    "    max_iterations=100,\n",
    "    all_possible_transitions=True\n",
    ")\n",
    "crf.fit(X_train, y_train)"
   ]
  },
  {
   "cell_type": "code",
   "execution_count": 492,
   "metadata": {},
   "outputs": [
    {
     "data": {
      "text/plain": [
       "['tt', 'udm', 'ru', 'sah', 'ba']"
      ]
     },
     "execution_count": 492,
     "metadata": {},
     "output_type": "execute_result"
    }
   ],
   "source": [
    "labels = list(crf.classes_)\n",
    "labels"
   ]
  },
  {
   "cell_type": "code",
   "execution_count": 493,
   "metadata": {},
   "outputs": [
    {
     "data": {
      "text/plain": [
       "0.9688631467411942"
      ]
     },
     "execution_count": 493,
     "metadata": {},
     "output_type": "execute_result"
    }
   ],
   "source": [
    "y_pred = crf.predict(X_test)\n",
    "metrics.flat_f1_score(y_test, y_pred,\n",
    "                      average='weighted', labels=labels)"
   ]
  },
  {
   "cell_type": "code",
   "execution_count": 494,
   "metadata": {},
   "outputs": [
    {
     "name": "stdout",
     "output_type": "stream",
     "text": [
      "             precision    recall  f1-score   support\n",
      "\n",
      "         ba      0.943     0.929     0.936     31578\n",
      "        sah      0.996     0.998     0.997     36540\n",
      "        udm      0.987     0.979     0.983     31773\n",
      "         tt      0.938     0.944     0.941     36432\n",
      "         ru      0.977     0.988     0.982     41719\n",
      "\n",
      "avg / total      0.969     0.969     0.969    178042\n",
      "\n"
     ]
    }
   ],
   "source": [
    "sorted_labels = sorted(\n",
    "    labels,\n",
    "    key=lambda name: (name[1:], name[0])\n",
    ")\n",
    "print(metrics.flat_classification_report(\n",
    "    y_test, y_pred, labels=sorted_labels, digits=3\n",
    "))"
   ]
  },
  {
   "cell_type": "code",
   "execution_count": 495,
   "metadata": {},
   "outputs": [],
   "source": [
    "def plot_confusion_matrix(cm, classes,\n",
    "                          normalize=False,\n",
    "                          title='Confusion matrix',\n",
    "                          cmap=plt.cm.Blues):\n",
    "    \"\"\"\n",
    "    This function prints and plots the confusion matrix.\n",
    "    Normalization can be applied by setting `normalize=True`.\n",
    "    \"\"\"\n",
    "    if normalize:\n",
    "        cm = cm.astype('float') / cm.sum(axis=1)[:, np.newaxis]\n",
    "        print(\"Normalized confusion matrix\")\n",
    "    else:\n",
    "        print('Confusion matrix, without normalization')\n",
    "\n",
    "    print(cm)\n",
    "\n",
    "    plt.imshow(cm, interpolation='nearest', cmap=cmap)\n",
    "    plt.title(title)\n",
    "    plt.colorbar()\n",
    "    tick_marks = np.arange(len(classes))\n",
    "    plt.xticks(tick_marks, classes, rotation=45)\n",
    "    plt.yticks(tick_marks, classes)\n",
    "\n",
    "    fmt = '.2f' if normalize else 'd'\n",
    "    thresh = cm.max() / 2.\n",
    "    for i, j in itertools.product(range(cm.shape[0]), range(cm.shape[1])):\n",
    "        plt.text(j, i, format(cm[i, j], fmt),\n",
    "                 horizontalalignment=\"center\",\n",
    "                 color=\"white\" if cm[i, j] > thresh else \"black\")\n",
    "\n",
    "    plt.tight_layout()\n",
    "    plt.ylabel('True label')\n",
    "    plt.xlabel('Predicted label')"
   ]
  },
  {
   "cell_type": "code",
   "execution_count": 496,
   "metadata": {},
   "outputs": [
    {
     "name": "stdout",
     "output_type": "stream",
     "text": [
      "Confusion matrix, without normalization\n",
      "[[29336   253    61  1833    95]\n",
      " [  148 41222     4   202   143]\n",
      " [   19     6 36452    60     3]\n",
      " [ 1512   324    55 34386   155]\n",
      " [   93   389    14   168 31109]]\n",
      "Normalized confusion matrix\n",
      "[[9.29e-01 8.01e-03 1.93e-03 5.80e-02 3.01e-03]\n",
      " [3.55e-03 9.88e-01 9.59e-05 4.84e-03 3.43e-03]\n",
      " [5.20e-04 1.64e-04 9.98e-01 1.64e-03 8.21e-05]\n",
      " [4.15e-02 8.89e-03 1.51e-03 9.44e-01 4.25e-03]\n",
      " [2.93e-03 1.22e-02 4.41e-04 5.29e-03 9.79e-01]]\n"
     ]
    },
    {
     "data": {
      "image/png": "[encoded data removed]",
      "text/plain": [
       "<Figure size 432x288 with 2 Axes>"
      ]
     },
     "metadata": {},
     "output_type": "display_data"
    },
    {
     "data": {
      "image/png": "[encoded data removed]",
      "text/plain": [
       "<Figure size 432x288 with 2 Axes>"
      ]
     },
     "metadata": {},
     "output_type": "display_data"
    }
   ],
   "source": [
    "from sklearn.metrics import confusion_matrix\n",
    "\n",
    "# Compute confusion matrix\n",
    "cnf_matrix = confusion_matrix(y_test, y_pred)\n",
    "np.set_printoptions(precision=2)\n",
    "\n",
    "classes = ['ba', 'ru', 'sah', 'tt', 'udm']\n",
    "\n",
    "# Plot non-normalized confusion matrix\n",
    "plt.figure()\n",
    "plot_confusion_matrix(cnf_matrix, classes=classes,\n",
    "                      title='Confusion matrix, without normalization')\n",
    "\n",
    "# Plot normalized confusion matrix\n",
    "plt.figure()\n",
    "plot_confusion_matrix(cnf_matrix, classes=classes, normalize=True,\n",
    "                      title='Normalized confusion matrix')\n",
    "\n",
    "plt.savefig('confusion.png')\n",
    "plt.show()"
   ]
  },
  {
   "cell_type": "code",
   "execution_count": 497,
   "metadata": {},
   "outputs": [],
   "source": [
    "test_sent_ba = \"Өфө миллионлы ҡалалар араһында төшкө аштың арзанлығы буйынса 10-сы урынды биләй. Рейтингты «2ГИС» сервисы төҙөгән. Аналитиктар һөҙөмтәләрҙе 2015 йылғы хаҡтар менән сағыштырып, бизнес-ланчтың ниндәй ҡалала ҡиммәтләнеүен һәм арзанайыуын асыҡлаған.\"\n",
    "test_sent = \"чыгу тырышу кирәк бу шөгыль гомер буена сузылырга тиеш необходимо пытаться превосходить самого себя постоянно и это занятие должно длиться всю жизнь\""
   ]
  },
  {
   "cell_type": "code",
   "execution_count": 498,
   "metadata": {},
   "outputs": [
    {
     "data": {
      "text/plain": [
       "[('Өфө', 'ba'),\n",
       " ('миллионлы', 'ba'),\n",
       " ('ҡалалар', 'ba'),\n",
       " ('араһында', 'ba'),\n",
       " ('төшкө', 'ba'),\n",
       " ('аштың', 'ba'),\n",
       " ('арзанлығы', 'ba'),\n",
       " ('буйынса', 'ba'),\n",
       " ('10-сы', 'ba'),\n",
       " ('урынды', 'ba'),\n",
       " ('биләй.', 'ba'),\n",
       " ('Рейтингты', 'ba'),\n",
       " ('«2ГИС»', 'ba'),\n",
       " ('сервисы', 'ba'),\n",
       " ('төҙөгән.', 'ba'),\n",
       " ('Аналитиктар', 'ba'),\n",
       " ('һөҙөмтәләрҙе', 'ba'),\n",
       " ('2015', 'ba'),\n",
       " ('йылғы', 'ba'),\n",
       " ('хаҡтар', 'ba'),\n",
       " ('менән', 'ba'),\n",
       " ('сағыштырып,', 'ba'),\n",
       " ('бизнес-ланчтың', 'ba'),\n",
       " ('ниндәй', 'ba'),\n",
       " ('ҡалала', 'ba'),\n",
       " ('ҡиммәтләнеүен', 'ba'),\n",
       " ('һәм', 'ba'),\n",
       " ('арзанайыуын', 'ba'),\n",
       " ('асыҡлаған.', 'ba')]"
      ]
     },
     "execution_count": 498,
     "metadata": {},
     "output_type": "execute_result"
    }
   ],
   "source": [
    "predict_language(crf, test_sent_ba)"
   ]
  },
  {
   "cell_type": "code",
   "execution_count": 499,
   "metadata": {},
   "outputs": [
    {
     "name": "stdout",
     "output_type": "stream",
     "text": [
      "Top positive:\n",
      "6.326580 ba       -1:word n-grams:ҡ\n",
      "5.905312 ba       +1:word.lower():ла\n",
      "5.865494 ba       word.lower():ла\n",
      "5.786171 ba       -1:word.lower():ла\n",
      "5.623955 ba       word.lower():улар\n",
      "5.583409 ba       -1:word.lower():улар\n",
      "5.413887 ba       word n-grams:ҡ\n",
      "5.224471 ba       +1:word n-grams:еү\n",
      "5.125854 ba       +1:word n-grams:ҙ\n",
      "5.108977 ba       word n-grams:ҙ\n",
      "5.078298 ba       +1:word n-grams:ҡ\n",
      "5.027207 tt       word n-grams:җ\n",
      "5.016189 tt       +1:word n-grams:җ\n",
      "4.980487 sah      word n-grams:ҥ\n",
      "4.979963 ba       +1:word.lower():улар\n",
      "4.908602 ba       word n-grams:ғ\n",
      "4.823836 tt       -1:word n-grams:җ\n",
      "4.793739 udm      +1:word n-grams: \n",
      "4.790903 tt       +1:word.lower():бу\n",
      "4.790149 ba       +1:word n-grams:ғ\n",
      "4.733546 udm      word.lower():арын\n",
      "4.705163 ba       -1:word n-grams:ҙ\n",
      "4.677601 sah      word n-grams:ҕ\n",
      "4.601889 ba       +1:word.lower():лә\n",
      "4.540159 udm      -1:word n-grams:ысь\n",
      "4.516618 ru       word.lower():в\n",
      "4.493140 ba       -1:word n-grams:ғ\n",
      "4.485810 ba       word.lower():был\n",
      "4.482955 ba       word.lower():лә\n",
      "4.480140 ba       +1:word.lower():тип\n",
      "\n",
      "Top negative:\n",
      "-2.491722 ru       -1:word.lower():больной\n",
      "-2.499358 tt       +1:word n-grams:̈\n",
      "-2.509131 udm      word n-grams:ып\n",
      "-2.516045 ru       -1:word n-grams:кил\n",
      "-2.516676 tt       word n-grams:сыл\n",
      "-2.517122 tt       -1:word n-grams:̈\n",
      "-2.523396 ba       +1:word.lower():в\n",
      "-2.530087 ru       +1:word.lower():ленин\n",
      "-2.555500 udm      -1:word n-grams:  \n",
      "-2.622855 tt       word n-grams:ҫ\n",
      "-2.644827 ru       word n-grams:ын\n",
      "-2.659735 sah      +1:word n-grams:з\n",
      "-2.672870 tt       word n-grams:̈\n",
      "-2.720064 tt       word n-grams:яла\n",
      "-2.772483 ru       -1:word n-grams:ын\n",
      "-2.825412 sah      -1:word n-grams:з\n",
      "-2.855784 udm      word n-grams:  \n",
      "-2.877035 ru       word.lower():знакомство\n",
      "-3.004584 ru       +1:word n-grams:ын\n",
      "-3.106010 udm      +1:word n-grams:  \n",
      "-3.116786 sah      word n-grams:ш\n",
      "-3.161999 ba       -1:word.lower():турында\n",
      "-3.221055 sah      -1:word n-grams:ш\n",
      "-3.242356 ru       +1:word.lower():пользуется\n",
      "-3.243002 tt       word n-grams:улт\n",
      "-3.292459 sah      +1:word n-grams:ш\n",
      "-3.470189 sah      +1:word n-grams:в\n",
      "-3.792671 sah      -1:word n-grams:в\n",
      "-4.631489 sah      -1:word n-grams:е\n",
      "-4.816278 sah      +1:word n-grams:е\n"
     ]
    }
   ],
   "source": [
    "from collections import Counter\n",
    "\n",
    "def print_state_features(state_features):\n",
    "    for (attr, label), weight in state_features:\n",
    "        print(\"%0.6f %-8s %s\" % (weight, label, attr))\n",
    "\n",
    "print(\"Top positive:\")\n",
    "print_state_features(Counter(crf.state_features_).most_common(30))\n",
    "\n",
    "print(\"\\nTop negative:\")\n",
    "print_state_features(Counter(crf.state_features_).most_common()[-30:])"
   ]
  },
  {
   "cell_type": "code",
   "execution_count": 500,
   "metadata": {},
   "outputs": [
    {
     "data": {
      "text/plain": [
       "['crf_lang_detect_ngrams_no_wiki_2window.pkl']"
      ]
     },
     "execution_count": 500,
     "metadata": {},
     "output_type": "execute_result"
    }
   ],
   "source": [
    "joblib.dump(crf, MODEL_FILE)"
   ]
  },
  {
   "cell_type": "markdown",
   "metadata": {},
   "source": [
    "# Загрузка классификатора"
   ]
  },
  {
   "cell_type": "code",
   "execution_count": 544,
   "metadata": {},
   "outputs": [],
   "source": [
    "MODEL_FILE = 'crf_lang_detect_ngrams_no_wiki_2window.pkl'\n",
    "crf = joblib.load(MODEL_FILE)"
   ]
  },
  {
   "cell_type": "code",
   "execution_count": 13,
   "metadata": {},
   "outputs": [],
   "source": [
    "?np.argmax"
   ]
  },
  {
   "cell_type": "code",
   "execution_count": 545,
   "metadata": {},
   "outputs": [],
   "source": [
    "def most_common(lst):\n",
    "    return max(set(lst), key=lst.count)\n",
    "y_test = []\n",
    "y_pred = []\n",
    "test_sents = open('test_comments.txt', encoding='utf-8').read().split('\\n')\n",
    "for sent in test_sents:\n",
    "    sent = sent.split()\n",
    "    y_test.append(sent[0])\n",
    "    test_sent = ' '.join(sent[1:])\n",
    "    preds = predict_language(crf, test_sent)\n",
    "    lang_preds = [pred[1] for pred in preds]\n",
    "    y_pred.append(most_common(lang_preds))"
   ]
  },
  {
   "cell_type": "code",
   "execution_count": 546,
   "metadata": {},
   "outputs": [],
   "source": [
    "fasttext_test = open('test_comments_fasttext.txt', encoding='utf-8').read().split('\\n')\n",
    "y_test_ft = [label.split()[0].replace('__label__', '') for label in fasttext_test]\n",
    "fasttext_preds = open('fasttext_test_results.txt', encoding='utf-8').read().split('\\n')\n",
    "y_pred_ft = [label.replace('__label__', '') for label in fasttext_preds]"
   ]
  },
  {
   "cell_type": "code",
   "execution_count": 547,
   "metadata": {},
   "outputs": [],
   "source": [
    "cs_test = open('cs_test.txt', encoding='utf-8').read().split('\\n')\n",
    "X_test_cs = []\n",
    "y_test_cs = []\n",
    "for test in cs_test:\n",
    "    y_test_cs.extend([token.split('_')[1] for token in test.split()])\n",
    "    X_test_cs.append(' '.join([token.split('_')[0] for token in test.split()]))\n",
    "y_pred_cs = []\n",
    "for test in X_test_cs:\n",
    "    y_pred_cs.extend([pred[1] for pred in predict_language(crf, test)])"
   ]
  },
  {
   "cell_type": "code",
   "execution_count": 548,
   "metadata": {},
   "outputs": [
    {
     "name": "stdout",
     "output_type": "stream",
     "text": [
      "\t\tCRF language identifier\n",
      "             precision    recall  f1-score   support\n",
      "\n",
      "         ba      0.976     0.800     0.879        50\n",
      "        sah      1.000     1.000     1.000        50\n",
      "         tt      0.831     0.980     0.899        50\n",
      "         ru      1.000     1.000     1.000        50\n",
      "\n",
      "avg / total      0.952     0.945     0.945       200\n",
      "\n"
     ]
    }
   ],
   "source": [
    "print('\\t\\tCRF language identifier')\n",
    "sorted_labels = sorted(\n",
    "    list(set(y_test)),\n",
    "    key=lambda name: (name[1:], name[0])\n",
    ")\n",
    "print(sklearn.metrics.classification_report(\n",
    "    y_test, y_pred, labels=sorted_labels, digits=3\n",
    "))"
   ]
  },
  {
   "cell_type": "code",
   "execution_count": 542,
   "metadata": {},
   "outputs": [
    {
     "name": "stdout",
     "output_type": "stream",
     "text": [
      "\t\tFastText language identifier\n",
      "             precision    recall  f1-score   support\n",
      "\n",
      "         ba      0.958     0.460     0.622        50\n",
      "        sah      0.877     1.000     0.935        50\n",
      "         tt      0.696     0.780     0.736        50\n",
      "         ru      0.877     1.000     0.935        50\n",
      "\n",
      "avg / total      0.852     0.810     0.807       200\n",
      "\n"
     ]
    }
   ],
   "source": [
    "print('\\t\\tFastText language identifier')\n",
    "sorted_labels_ft = sorted(\n",
    "    list(set(y_test_ft)),\n",
    "    key=lambda name: (name[1:], name[0])\n",
    ")\n",
    "print(sklearn.metrics.classification_report(\n",
    "    y_test_ft, y_pred_ft, labels=sorted_labels_ft, digits=3\n",
    "))"
   ]
  },
  {
   "cell_type": "code",
   "execution_count": 536,
   "metadata": {},
   "outputs": [
    {
     "name": "stdout",
     "output_type": "stream",
     "text": [
      "\t\tCRF language identifier on code-switching data\n"
     ]
    },
    {
     "name": "stderr",
     "output_type": "stream",
     "text": [
      "c:\\users\\milik\\appdata\\local\\programs\\python\\python36\\lib\\site-packages\\sklearn\\metrics\\classification.py:1135: UndefinedMetricWarning: Precision and F-score are ill-defined and being set to 0.0 in labels with no predicted samples.\n",
      "  'precision', 'predicted', average, warn_for)\n"
     ]
    },
    {
     "name": "stdout",
     "output_type": "stream",
     "text": [
      "             precision    recall  f1-score   support\n",
      "\n",
      "         ba      0.000     0.000     0.000        98\n",
      "        sah      0.000     0.000     0.000       101\n",
      "        udm      0.000     0.000     0.000        83\n",
      "         tt      0.340     0.950     0.501       119\n",
      "         ru      0.751     0.921     0.827       304\n",
      "\n",
      "avg / total      0.381     0.557     0.441       705\n",
      "\n"
     ]
    }
   ],
   "source": [
    "print('\\t\\tCRF language identifier on code-switching data')\n",
    "sorted_labels_cs = sorted(\n",
    "    list(set(y_test_cs)),\n",
    "    key=lambda name: (name[1:], name[0])\n",
    ")\n",
    "print(sklearn.metrics.classification_report(\n",
    "    y_test_cs, y_pred_cs, labels=sorted_labels_cs, digits=3\n",
    "))"
   ]
  },
  {
   "cell_type": "code",
   "execution_count": 631,
   "metadata": {},
   "outputs": [],
   "source": [
    "def print_confusion_matrix(confusion_matrix, class_names, figsize = (10,7), fontsize=14):\n",
    "    \"\"\"Prints a confusion matrix, as returned by sklearn.metrics.confusion_matrix, as a heatmap.\n",
    "    \n",
    "    Arguments\n",
    "    ---------\n",
    "    confusion_matrix: numpy.ndarray\n",
    "        The numpy.ndarray object returned from a call to sklearn.metrics.confusion_matrix. \n",
    "        Similarly constructed ndarrays can also be used.\n",
    "    class_names: list\n",
    "        An ordered list of class names, in the order they index the given confusion matrix.\n",
    "    figsize: tuple\n",
    "        A 2-long tuple, the first value determining the horizontal size of the ouputted figure,\n",
    "        the second determining the vertical size. Defaults to (10,7).\n",
    "    fontsize: int\n",
    "        Font size for axes labels. Defaults to 14.\n",
    "        \n",
    "    Returns\n",
    "    -------\n",
    "    matplotlib.figure.Figure\n",
    "        The resulting confusion matrix figure\n",
    "    \"\"\"\n",
    "    confusion_matrix = confusion_matrix.astype('float') / confusion_matrix.sum(axis=1)[:, np.newaxis]\n",
    "    df_cm = pd.DataFrame(\n",
    "        confusion_matrix, index=class_names, columns=class_names, \n",
    "    )\n",
    "    fig = plt.figure(figsize=figsize)\n",
    "    try:\n",
    "        heatmap = sns.heatmap(df_cm, annot=True, fmt=\".2f\", annot_kws={\"size\": 20})\n",
    "    except ValueError:\n",
    "        raise ValueError(\"Confusion matrix values must be integers.\")\n",
    "    heatmap.yaxis.set_ticklabels(heatmap.yaxis.get_ticklabels(), rotation=0, ha='right', fontsize=fontsize)\n",
    "    heatmap.xaxis.set_ticklabels(heatmap.xaxis.get_ticklabels(), rotation=45, ha='right', fontsize=fontsize)\n",
    "    plt.ylabel('True label', fontsize=16)\n",
    "    plt.xlabel('Predicted label', fontsize=16)\n",
    "    return fig"
   ]
  },
  {
   "cell_type": "code",
   "execution_count": 632,
   "metadata": {},
   "outputs": [
    {
     "data": {
      "image/png": "[encoded data removed]",
      "text/plain": [
       "<Figure size 720x504 with 2 Axes>"
      ]
     },
     "metadata": {},
     "output_type": "display_data"
    }
   ],
   "source": [
    "cnf_matrix_cs = confusion_matrix(y_test_cs, y_pred_cs)\n",
    "np.set_printoptions(precision=2)\n",
    "\n",
    "classes = ['ba', 'ru', 'sah', 'tt', 'udm']\n",
    "# Plot normalized confusion matrix\n",
    "print_confusion_matrix(cnf_matrix_cs, class_names=sorted_labels_cs, fontsize=16)\n",
    "plt.savefig('confusion_matrix.png', dpi=300)\n",
    "plt.show()"
   ]
  },
  {
   "cell_type": "markdown",
   "metadata": {},
   "source": [
    "# Обработка корпуса"
   ]
  },
  {
   "cell_type": "code",
   "execution_count": 638,
   "metadata": {},
   "outputs": [
    {
     "name": "stdout",
     "output_type": "stream",
     "text": [
      "Working on ba...\n",
      "Total ba comments: 241137\n",
      "Twitter-sized ba comments: 127494\n",
      "Counter({'ba': 66453,\n",
      "         'ru': 22700,\n",
      "         'tt': 7394,\n",
      "         'mixed': 4738,\n",
      "         'ambiguous': 931,\n",
      "         'sah': 7,\n",
      "         'udm': 1})\n",
      "[('ba', 0.7077675176534493),\n",
      " ('ru', 0.24176971168695616),\n",
      " ('mixed', 0.05046277065959463)]\n",
      "Working on tt...\n",
      "Total tt comments: 83656\n",
      "Twitter-sized tt comments: 48676\n",
      "Counter({'tt': 34561,\n",
      "         'ru': 10397,\n",
      "         'mixed': 1834,\n",
      "         'ba': 168,\n",
      "         'ambiguous': 38,\n",
      "         'sah': 7,\n",
      "         'udm': 2})\n",
      "[('tt', 0.7386091639596513),\n",
      " ('ru', 0.2221961018977603),\n",
      " ('mixed', 0.03919473414258848)]\n",
      "Working on udm...\n",
      "Total udm comments: 22102\n",
      "Twitter-sized udm comments: 9600\n",
      "Counter({'udm': 7625,\n",
      "         'ru': 1153,\n",
      "         'mixed': 569,\n",
      "         'sah': 13,\n",
      "         'tt': 6,\n",
      "         'ambiguous': 4,\n",
      "         'ba': 3})\n",
      "[('udm', 0.8157697657002246),\n",
      " ('mixed', 0.06087514710602332),\n",
      " ('ru', 0.123355087193752)]\n",
      "Working on sah...\n",
      "Total sah comments: 232088\n",
      "Twitter-sized sah comments: 136460\n",
      "Counter({'sah': 87249,\n",
      "         'ru': 26912,\n",
      "         'mixed': 10792,\n",
      "         'tt': 417,\n",
      "         'ba': 376,\n",
      "         'ambiguous': 348,\n",
      "         'udm': 9})\n",
      "[('sah', 0.6982545437084343),\n",
      " ('ru', 0.21537698174513617),\n",
      " ('mixed', 0.08636847454642946)]\n"
     ]
    }
   ],
   "source": [
    "stats = Counter()\n",
    "contexts_1 = {\n",
    "    'ba': [],\n",
    "    'tt': [],\n",
    "    'udm': [],\n",
    "    'sah': []\n",
    "}\n",
    "contexts_3 = {\n",
    "    'ba': [],\n",
    "    'tt': [],\n",
    "    'udm': [],\n",
    "    'sah': []\n",
    "}\n",
    "\n",
    "contexts_5 = {\n",
    "    'ba': [],\n",
    "    'tt': [],\n",
    "    'udm': [],\n",
    "    'sah': []\n",
    "}\n",
    "\n",
    "mixed = {\n",
    "    'ba': [],\n",
    "    'tt': [],\n",
    "    'udm': [],\n",
    "    'sah': []\n",
    "}\n",
    "\n",
    "for lang in 'ba tt udm sah'.split():\n",
    "    print('Working on {}...'.format(lang))\n",
    "    filename = 'vk_comments/{}_comments_tokenized_10more.txt'.format(lang)\n",
    "    comments = open(filename, encoding='utf-8').read().split('\\n')\n",
    "    print('Total {} comments:'.format(lang), len(comments))\n",
    "    comments = list(set([comment for comment in comments if len(comment) > 50 and len(comment) < 141]))\n",
    "    print('Twitter-sized {} comments:'.format(lang), len(comments))\n",
    "    for comment in comments:\n",
    "        preds = predict_language(crf, comment)\n",
    "        #for pred in predict_language(crf, comment):\n",
    "        #    if pred[1] not in ['ru', lang]:\n",
    "        #        preds.append((pred[0], lang))\n",
    "        #    else:\n",
    "        #        preds.append(pred)\n",
    "        #print(preds)\n",
    "        lang_preds = [pred[1] for pred in preds]\n",
    "        codes = list(set([pred for pred in lang_preds if lang_preds.count(pred) > 4]))\n",
    "        #print(codes, comment)\n",
    "        if len(codes) == 1:\n",
    "            stats[codes[0]] += 1\n",
    "        elif len(codes) > 2:\n",
    "            stats['ambiguous'] += 1\n",
    "        else:\n",
    "            for i in range(len(preds)):\n",
    "                if i > 2 and preds[i][1] == 'ru':\n",
    "                    if [preds[i - 3][1], preds[i - 2][1], preds[i - 1][1]] == [lang, lang, lang]:\n",
    "                        contexts_1[lang].append(preds[i - 1][0])\n",
    "                        contexts_3[lang].append(' '.join([preds[i - 3][0], preds[i - 2][0], preds[i - 1][0]]))\n",
    "                        #contexts_5[lang].append(' '.join([preds[i - 5][0], preds[i - 4][0], preds[i - 3][0], preds[i - 2][0], preds[i - 1][0]]))\n",
    "                        if comment not in mixed[lang]:\n",
    "                            stats['mixed'] += 1\n",
    "                            mixed[lang].append(comment)\n",
    "                elif i < len(preds) - 3 and preds[i][1] == 'ru':\n",
    "                    if [preds[i + 3][1], preds[i + 2][1], preds[i + 1][1]] == [lang, lang, lang]:\n",
    "                        contexts_1[lang].append(preds[i + 1][0])\n",
    "                        contexts_3[lang].append(' '.join([preds[i + 1][0], preds[i + 2][0], preds[i + 3][0]]))\n",
    "                        #contexts_5[lang].append(' '.join([preds[i + 1][0], preds[i + 2][0], preds[i + 3][0], preds[i + 4][0], preds[i + 5][0]]))\n",
    "                        if comment not in mixed[lang]:\n",
    "                            stats['mixed'] += 1\n",
    "                            mixed[lang].append(comment)\n",
    "                #else:\n",
    "                    #stats['ambiguous'] += 1\n",
    "    pprint(stats)\n",
    "    total_count = sum([v for k, v in stats.items() if k in ['ru', 'mixed', lang]])\n",
    "    pprint([(k, (v / total_count)) for k, v in stats.items() if k in ['ru', 'mixed', lang]])\n",
    "    pickle.dump(stats, open('{}_stats_new.pkl'.format(lang), 'wb'))\n",
    "    stats = Counter()"
   ]
  },
  {
   "cell_type": "code",
   "execution_count": 619,
   "metadata": {},
   "outputs": [
    {
     "data": {
      "image/png": "[encoded data removed]",
      "text/plain": [
       "<Figure size 432x288 with 1 Axes>"
      ]
     },
     "metadata": {},
     "output_type": "display_data"
    },
    {
     "data": {
      "text/plain": [
       "<Figure size 1440x720 with 0 Axes>"
      ]
     },
     "metadata": {},
     "output_type": "display_data"
    }
   ],
   "source": [
    "tgt_percent = (72, 74, 83, 71)\n",
    "ru_percent = (25, 22, 12, 22)\n",
    "mixed_percent = (3, 4, 5, 7)\n",
    "\n",
    "ind = np.arange(len(tgt_percent))  # the x locations for the groups\n",
    "width = 0.3  # the width of the bars\n",
    "\n",
    "fig, ax = plt.subplots()\n",
    "rects1 = ax.bar(ind - width, tgt_percent, width,\n",
    "                color='SkyBlue', label='Target language')\n",
    "rects2 = ax.bar(ind, ru_percent, width,\n",
    "                color='IndianRed', label='Russian')\n",
    "rects3 = ax.bar(ind + width, mixed_percent, width,\n",
    "                color='Green', label='Mixed')\n",
    "\n",
    "\n",
    "# Add some text for labels, title and custom x-axis tick labels, etc.\n",
    "ax.set_ylabel('Percentage')\n",
    "#ax.set_title('Languages of the comments (≥ 3 tokens for code-switch detection)')\n",
    "ax.set_yticks([])\n",
    "ax.set_xticks(ind)\n",
    "ax.set_xticklabels(('Bashkir', 'Tatar', 'Udmurt', 'Yakut'))\n",
    "ax.set_facecolor('white')\n",
    "ax.legend(loc='upper center', fancybox=True, framealpha=0, ncol=3)\n",
    "ax.set_ylim(0, 105)\n",
    "\n",
    "\n",
    "def autolabel(rects, xpos='center'):\n",
    "    \"\"\"\n",
    "    Attach a text label above each bar in *rects*, displaying its height.\n",
    "\n",
    "    *xpos* indicates which side to place the text w.r.t. the center of\n",
    "    the bar. It can be one of the following {'center', 'right', 'left'}.\n",
    "    \"\"\"\n",
    "\n",
    "    xpos = xpos.lower()  # normalize the case of the parameter\n",
    "    ha = {'center': 'center', 'right': 'left', 'left': 'right'}\n",
    "    offset = {'center': 0.5, 'right': 0.57, 'left': 0.43}  # x_txt = x + w*off\n",
    "\n",
    "    for rect in rects:\n",
    "        height = rect.get_height()\n",
    "        ax.grid(False)\n",
    "        ax.text(rect.get_x() + rect.get_width()*offset[xpos], 1.01*height,\n",
    "                '{}'.format(height), ha=ha[xpos], va='bottom', fontsize=14)\n",
    "\n",
    "\n",
    "autolabel(rects1, \"center\")\n",
    "autolabel(rects2, \"center\")\n",
    "autolabel(rects3, \"center\")\n",
    "\n",
    "plt.savefig('cs_bar_3more.png', dpi=300)\n",
    "plt.figure(figsize=(20,10))\n",
    "plt.show()"
   ]
  },
  {
   "cell_type": "code",
   "execution_count": 371,
   "metadata": {},
   "outputs": [
    {
     "name": "stdout",
     "output_type": "stream",
     "text": [
      "['а я осторожно-осторожно между каплями тиган булды инде уларга ямгыр яумаймы алля', 'мин бер кемгә лә теймәнем кемгәлер төбәп яҙманым автор молодец и я его поддерживаю уны мин уйлап сығармаған ысынында ла шулай', 'минен уйым буйынса кешелар ерза ята а эт как обычно тора', 'иң дороҫо года и в садик сразу мин оло шулай иттем икенсе кыҙыма алты ай еще йыл имә', 'иң дороҫо года и в садик сразу мин оло шулай иттем икенсе кыҙыма алты ай еще йыл имә', 'икенсе егет таба алмагандыр шуга инеп карайзыр инде счастливые бывшими не интересуются тип бушка эйтмэйзэрзер инде', 'сәләм серҙәштәр минен ошолай була почему девушки боятся смотреть в глаза арнала был', 'сәләм серҙәштәр минен ошолай була почему девушки боятся смотреть в глаза арнала был', 'мне короче нечего сказать тупой тупой инде оят тигән нәмәң юҡ икән былай', 'как бы егетен мн мирись или как бы егетендан как бы тигане ла калмас', 'как бы егетен мн мирись или как бы егетендан как бы тигане ла калмас', 'цитатахыз за всё понятно братка ана беренсе рэттэ йыртkыs ултыра хэм укый', 'ундай була юҡҡа тулғаҡ тимәйҙәр бит терелгәндәй булаһың инде бигерәк тә первые роды и крупный плод булһа имен-һау табырға', 'минен карау гына тугел самалет самалет ты возьми меня в полет тип кыскырып калгым килэ', 'дөрөҫ хамитов бит признает то что и нынешняя победа все это заслуга прежнего президента юылай рахимовтың шапылдатып ти', 'да мы все понимаем работа не работа но йән булыуың күңелде минең генә күңелде түгел', 'да мы все понимаем работа не работа но йән булыуың күңелде минең генә күңелде түгел', 'илмир и я не сказала что ул башкортса хойлашмай тип хойлаша ул и хойлашасак но русский тоже надо знать', 'ыста оялып тороп улар беҙҙең арала оялмайҙаһа они же у нас как у себя дома шулай бул телеңдән оялып тороп башҡорт булғаныңа', 'таак что то не так икенсене табып алған йә булмаһа взломать итә кәрәк воот шундай уйҙар булыр ине тик мозгаһын ашарлыҡ егет кенә юҡ', 'без юхалай белмайбез мы же гордые что ты акырабыз но йомшак суз юк лексиконда', 'ул оҙон ул шулай мин обидеть не хочу я могу удалить иҫкә төшкәс яҙырға булдым', 'шорты майка тейап ауылга кайттым а сама хожу в маминых сапогах и атайымдын курткахын кейеп', 'шорты майка тейап ауылга кайттым а сама хожу в маминых сапогах и атайымдын курткахын кейеп', 'дэээ это точно по любому фейк бер бала сага ултыралыр элек тансулпандан тукмалган бер кыззыр может', 'дусларым сәләм марта приглашаем вас на татаро-башкирскую дискотеку кафе сириус ул инженерная тел рәхим итегез', 'дусларым сәләм марта приглашаем вас на татаро-башкирскую дискотеку кафе сириус ул инженерная тел рәхим итегез', 'все что не делается все к лучшему бер ниса йылдан алайза хозай аралаган шул кешенан тип кыуанырсын але', 'шулай салауат хаҡ посади свинью за стол она и ноги на стол тигән бар урыҫта ла', 'шулай салауат хаҡ посади свинью за стол она и ноги на стол тигән бар урыҫта ла', 'ул сүллектә нисек йәшәйһегеҙ нет лучше уж вы к нам тей бит бер кино геройы', 'ул сүллектә нисек йәшәйһегеҙ нет лучше уж вы к нам тей бит бер кино геройы', 'ар аррр ты напоминаешь мне одну особу твою землячку она тоже как из пулемёта трындит в тему не в тему халыҡ икәнһегеҙ', 'ар аррр ты напоминаешь мне одну особу твою землячку она тоже как из пулемёта трындит в тему не в тему халыҡ икәнһегеҙ', 'хоть алля нима доказывать итхендар но егет алдында былай итеп тормайым', 'не знаю как вы но мин хыу хиберга яратам хенлем мн тупракка хыу хибеп баткак эшлап', 'все мечтают о красивой жизни кашыйак йыуырга и тышка сыгып бук корэргэ никто не хочет', 'мине тыҡты мин яҙғайным ни улай оскорблять итеп яҙағыҙ тип ул это потому что правда им значить можно да тигән менән тыҡҡыслап', 'гульназ нийэ улай студенттарды унижаешь я сама студентка но мин мындай хэлгэ калганым булманы аллага шокер ботонеседэ етеш', 'мин знаю что эта такое икәнен булмаһа уйламаҫта инегеҙ шулай түгелмени', 'с чувством юмора у всех в порядке и таҡмаҡта шәпһегеҙ бөгөн умственные способности тикшерәбеҙ йә йомаҡ яҙып ебәр', 'лучшая подружка это подушка она и выслушает и слезы протрет керек булха тукмап та алан янгыз булхан косаклап йоклайын', 'яратмагас эйтер иен сразу что не любишь хар инде кайтканынса эйтмэй тор', 'былайтҡанда уйлар кәрәк ине хәҙер ал кәләш итеп лучше жизнь создать чем угробить причем свою уйла ныҡлап егет', 'иииий йыхан ну еггеттар как всегда умеют красиво говорить а без кыззар етенсе катка менабез шул хуззерзен анон', 'бында нәмә яҙылған б и д б а е т убыл яуаптыуҡыусы биш минутта студент бер сәғәттәтаба профессор бер касан да таба алмай', 'бында нәмә яҙылған б и д б а е т убыл яуаптыуҡыусы биш минутта студент бер сәғәттәтаба профессор бер касан да таба алмай', 'вакыт позитив бул оптимист бул шунан ботэ китер йылмай аллаh тэгэлэнэн тик якшыны и тогда все у тебя будет хорошо улмэ йэшэ балан осон йэшэ', 'уныхы ладно минен агайым реебокта фирменный магазин гына кеена обычные спортивные брюки за покупает базарза ундайзар за', 'мин фекерегеҙ юҡ тигәнде яҙманым шикелле бит фәнзил тураһында выше своей головы не прыгнешь падать больнее будет тип яҙҙығыҙ']\n",
      "['зур рэхмэт сина с е р л е с а н д ы к к а ем сезне дэ бэйрэм белэн', 'зур рэхмэт сина с е р л е с а н д ы к к а ем сезне дэ бэйрэм белэн', 'тут кыргызский язык похож с татарским он каджое лето в татарстан ездиет', 'тут кыргызский язык похож с татарским он каджое лето в татарстан ездиет', 'а что завтра завтра в украину идти ненадо в школу тоже дз юк гиа бирдек ахуенно була иртэгэ раслабься', 'русская версия дорогая выходи за меня замуж татарская версия жиләк жимещәм пәрәмәц ясы беләсенмә бәләм алай булса кияу кирәкмиме', 'щу поделать вот так с тобой делиться не хочет мало ли что ты его послушать хочешь некогда ана иртэгэ эшкэ трусикны эзерлэнмэ киряк', 'булмый онытып никак барыбер кунелдэ бер хэтирэ булып кала ул это во все времена так было если только амнезия белэн чирлэсэн генэ', 'только татарлар поймут когда идешь цилякляр и кюэнде белян а люди идущие спрашивают суга мы киттегез', 'только татарлар поймут когда идешь цилякляр и кюэнде белян а люди идущие спрашивают суга мы киттегез', 'ха прислуживать будь ему рабыней он будет тебе рабом дигәнэто взаимное прислуживание улсы по кайфу икесенә дә юк мы', 'сдравствуйте скиньте пожалуйста минусовку на песню эх ярый сез бар якын дусларым очень надо спасибо', 'а с какого перепуга алар синен дорес всякое может быть в этой жизни ну син булышмасан бутэннэр булышыр синнэн башкада норм кешелэр бар', 'не видела күрмәдемне должен тиеш түгел бурычлы түгел нельзя близко подходить к злой собаке усал эткә якын килергә ярамый', 'бляш кая без катимся раз ул сине кияуга алган ул мудак', 'да вы задалбали вам че делать нечего син узен тычасын хэзер рамазан ахахаха', 'какой миленький ангелочек такое горе сердце сжимается эти-энисенэ абыйсына ходай сабырлык бирсен урыны ожмахта булсын сабыйнын', 'всегда нравились казан егетлэре молодцы они бату-хан не по мне рэп не люблю вообще а последняя очень классная рэхмэт матуркай', 'всегда нравились казан егетлэре молодцы они бату-хан не по мне рэп не люблю вообще а последняя очень классная рэхмэт матуркай', 'кстати я тоже до сих пор об этом думаю прикиньте бигрэк жэллэдем шул кешене ходай сабырлык бирсен ана амин', 'да и еще азербайджанцы казахи узбеки кыргызы туркмены каракалпаки чуваши башкорты уйгуры якуты и так далее', 'пока не сыграл в ящик достучаться до небес кебегрэк фильмнар эйтегез эле пожалуйста', 'бэтэч элбэттэ обязательно тиеш эштэн эт булып арып кайтып аш та пешмэгэн булса зачем тогда жениться омлет бн ерак китеп булмый', 'ч т д моннан сон белеп кал безотказная это ты раз даешь себе мозг трахать куп суз бук суз сау бул сэламэт бул кайгы курмэ', 'мне тоже скинули добрые и хорошие люди аллага шокер синен жибэргэненне жэйгэ хатлем котэ башласан аллам сакласын', 'тадааам и так дети опрмюс закончен ильсия ханым сина ак чэч килешэ итогда', 'нет потому что у нас все подделка чыккан мэлдэ алган булсан бэлки эйбэтен табар иден может ана акча эрэм иткэнче ак каен ал', 'без кырлайга бардык музейга камаевана кердек музей бар тоже анда и в зоопарк кердек и бетен жирдэдэ белгеле печать билет и фотога тешэсен', 'медсестра педиатр и т д га высший кирэк э высшийга акча кирэк бик куп', 'с бодуна писали чтоли русским мальчиков татар малайлар белэн автор ике телнен берсендэ дэ шушы кыска жомлэне хатасыз яза алмаган', 'ник не будет прежней дисен так то кеше колагыннан алып авызынв тыклмаган бит инде ул аны', 'кто знает это песню отправьте пожалуйста без але бергэгэп яшарбез яшлэрбез кадерле сеюклем картлары', 'кемнәр рок ярата комментларга ыргытыгыз зинһар кроме вот этих не анонимно булса да ярый', 'отца с матерью пока целуй бук башын белэн монда кыланып утырасын', 'одно бедро и ты ведро ходи и оглядывайся мин бит белям кая син турасын ахахах', 'укытучылар куркытаа бирмэсэгез ниче не добьетесь сез ничего не умеете тупые дип мотивировать иткэч конечно сикерэлэр инде', 'укытучылар куркытаа бирмэсэгез ниче не добьетесь сез ничего не умеете тупые дип мотивировать иткэч конечно сикерэлэр инде', 'не тыкай мне тут я не мишарка ваших этих цицик мицик не знаю знать не хочу примерно написала ачуымны чыгарма хуже мишаров бываю', 'не тыкай мне тут я не мишарка ваших этих цицик мицик не знаю знать не хочу примерно написала ачуымны чыгарма хуже мишаров бываю', 'кемгэ акыл ойрэтэм мин уземнен мненияны яздым син хотя бы фейковый стрдан утырма инде', 'бля ну все пи де жизнь боль кутенне кутэрэсендэ айда пошел обратно нехуй кут симертеп ятырга', 'везде хорошо и везде добрые люди фруктов много тэмне кавын ашап ерибез шунда рэхэтлэнеп', 'кызым тын на алим абзины алим абзи койтолок выт сина телями алим абзи инде синекеннян куберяк кургяндер шул эшлярдя чын суз атям', 'туган онытып булмый аны сагынып кына була родную землю невозможно забыть по ней можно только скучать галимҗан гыйльманов', 'путь к финансовой свободе п к регистрация эшлэп куен бер авырлыгыда юк атна саен сум килэ акча салсан кубрэк килэ инде', 'зажала бы бегали б как собаки бер берсеннэн аерыла алмыйча урам эшлэре сыман', 'мы с ненейкой ночью тоже вскочили не поняли сначала она еще такая атай субханналла ниньди тревога диеп бельдем и смех и грех', 'хочу туда где нету интернета бушует река пары и зажигает лето энинекен пирожкиларэн тямьне тямьне ашарга оцпочмакларэн хэмь перемечлярен', 'кош исемнәре халык ай дүдәк дүдәк дүдәк басма каз-үрдәк кыйгак-кыйгак бак-бак-бак-бак басма каз-үрдәк с з л е к ч дрофаказ гусьүрдәк утка', 'без калтырамыйбыз нам то что не сдадим так армиягэ озатып каласыз']\n"
     ]
    },
    {
     "name": "stdout",
     "output_type": "stream",
     "text": [
      "['воштон шуысал дыр не совсем корректно конечно но укул кылэз ми пал удмуртъес вообще уз валалэ', 'воштон шуысал дыр не совсем корректно конечно но укул кылэз ми пал удмуртъес вообще уз валалэ', 'ненай я такойже тока я удмурт-русский но незню удм но ежу в лагерь и тама мне всё понятно', 'да ладно шарканын ваще озьы уг верасько это по-любому влияние южных районов пичи пурга алнаш', 'начиная с февраля радио вы можете слышать в прямом эфире тулыспалысь кутскыса радио меч ак эфирын ужа', 'игорь упс адӟысал ке вунэтысал хд умею я поймать кадр хз', 'шулдыръяськонэз нуозы вечер будут вести мон я любик но чумоле олеш алексей бегешев', 'шулдыръяськонэз нуозы вечер будут вести мон я любик но чумоле олеш алексей бегешев', 'потэ ке мед мыноз утчалоз ассэ и не факт что перьме мынса удмуртлыкез вунэтоз', 'татьяна поволжья асьме таня щёткина вице-мисс луиз нырысетӥ интыын татьяна дудникова г саранск мгу им н п огарёва', 'яроз саша туж нормуль но для радости моих синъес я б эшшо таркасал конкретногес сюлмысь', 'яроз саша туж нормуль но для радости моих синъес я б эшшо таркасал конкретногес сюлмысь', 'битбокс вамыш лагерьын волнение туж зол вал кышкыт вообще выступать кареме уг поты вал но в последнюю минуту решился учке мар пормиз', 'газете удмурт дунне лет урааа и почему же я так редко посещаю подобные мероприятия было ужасно холодно но весело', 'герд гимнази кенеш бурд улын валасько ке ужа соин ик а так то конечно со али ас малпанэз шуыса вераське ярам та бордын ченгешон', 'хахах как в воду глядела юферева сярысь гожтӥ куараосты тодытэк евсеевалы куараме сётӥ малы ке но кыксы ик топын', 'мынам сыче но поте еще одик пол ке но усточикаре вуыны', 'и это кылпу скорее вместе нужно написать пу это не дерево а скорее древесина если дерево то писпу тогда кыл писпу', 'и это кылпу скорее вместе нужно написать пу это не дерево а скорее древесина если дерево то писпу тогда кыл писпу', 'фин-угор дуннелэн нимыз чошатскон сярысь гожто татын эшъяськон юртын та пумысен вераськемзы но оз поты как то не серъёзно пе со', 'удмуртъёслэсь афишаын кудиз сиземын кытын межнациональный этнодискотека крепчает в ваших рядах', 'ужаса поттэм емыш котьмалэсь ческыт плоды труда слаще чем все другие плоды', 'так висён отходит на план чуказе возьмасько ваньдэс ас дорам клубын ужаломы шутэтскомы пусъёмы вордиськемъёсты', 'ценителям шунды музъем ву романтизма магии и т д дарим другой удмуртский клипец', 'ценителям шунды музъем ву романтизма магии и т д дарим другой удмуртский клипец', 'гондыр тӥледлы умой уйвӧтъес сӥзе медведь желает вам хороших снов мастерская и студия керамики мугур', 'гондыр тӥледлы умой уйвӧтъес сӥзе медведь желает вам хороших снов мастерская и студия керамики мугур', 'бур туннэ туж умой ивор вань удмуртские названия начали давать улицам в малой пурге', 'монэ но туннэ бичатӥз та юан так то словарья конечно глава голова тупа но кыӵе ке но диковато адӟиське тӧро дыр умойгес тупасал', 'читайте оригинал не ленитесь шутка о шундылэн тылсиосаземышъёсты миське тылсиосты омыръясаю тысь вылэ кисьтэ', 'тау бадзым со концерт или кыче жанр а мара со уг тоськы кызьы ну ти монэ валады дырконцерт а со', 'тау бадзым со концерт или кыче жанр а мара со уг тоськы кызьы ну ти монэ валады дырконцерт а со', 'кыче именно секыт югдур и кин бича соосты мынам пичи пургалан', 'д з л н с т букваос бере чурыт кылӥськыкуз пуктӥське', 'мынам потэ кырӟаме фантазии-вариации на тему к евсеевой гурез но йырам берга ини', 'мынам потэ кырӟаме фантазии-вариации на тему к евсеевой гурез но йырам берга ини', 'спасибо это великолепный копирайт кожаные сумки нош удмуртъёс эн куректэ удмурт магазин луоз удмурт магазинлы нимысьтыз усьтон луоз ура', 'до удмурт кенеша так то это было ведь уже кин ке алнашъёслэсь посадовалэсь юалляськиз-а вообсче', 'до удмурт кенеша так то это было ведь уже кин ке алнашъёслэсь посадовалэсь юалляськиз-а вообсче', 'рома мон в курсе что небыт пусэз овол тау сыче сюлмаськемедлы эшъес аксакшур колхозлэн правленилэн люкаськемез ку меда луоз ни', 'рома мон в курсе что небыт пусэз овол тау сыче сюлмаськемедлы эшъес аксакшур колхозлэн правленилэн люкаськемез ку меда луоз ни', 'удмуртъеслы всеравно как имя народа трепают и употребляют нокин шара публично пумит вал уралистикаысь блоггер сяна', 'удмуртъеслы всеравно как имя народа трепают и употребляют нокин шара публично пумит вал уралистикаысь блоггер сяна', 'гажано удмурт театр этот ваш материал размёщён в газете байгурезь см читайте здесь и сейчас', 'гажано удмурт театр этот ваш материал размёщён в газете байгурезь см читайте здесь и сейчас', 'вань я не в силах вам помочь ленчикед уг лэзиськы пе пырыны', 'вань я не в силах вам помочь ленчикед уг лэзиськы пе пырыны', 'ип лишь форма организации бизнеса необходимость следствие бюрократия ип ооо но мукет портэмтэк бизнэс лэсьтын быгатиськод ке эшшо но зечгес', 'з л н с т бере но э гожтӥське дэрем зэмлык кулэс нэнэ сэрен ватэвыльдӥ зӥрак лӥяты понӥ сӥзьыл тӥ', 'огнад номыр уд лэсьты в одиночку ничего не сделаешь огнады номыр уд лэсьтэ в одиночку ничего не сделаете']\n",
      "['он ведь здесь не обитает туох да буруйа суох киьини суруй да суруй', 'только гулянкив твоём голове полюбому атаах кыыскын бьх кэнники бэйэн кэмсиниэгин', 'садикка улэлии киир там место же дают ребёнку иккиэн бииргэ сылдьыаххыт ди а так а5ан дьаабы ди', 'садикка улэлии киир там место же дают ребёнку иккиэн бииргэ сылдьыаххыт ди а так а5ан дьаабы ди', 'озуттан тутулуга суох озу диэн оперативная память элбэх приложения игин арыйдахха аччыыр ырыа видео онно харайыллыбат', 'озуттан тутулуга суох озу диэн оперативная память элбэх приложения игин арыйдахха аччыыр ырыа видео онно харайыллыбат', 'ээ ессе сана дьыл сагана пожеланник диэн оностооччубут дии тэтэрээтинэн треугольник подарокктын умнаайаххыт дии дии', 'ээ ессе сана дьыл сагана пожеланник диэн оностооччубут дии тэтэрээтинэн треугольник подарокктын умнаайаххыт дии дии', 'оннук же определитель бгкп в молоке баар эбит ди за час определяет бэ5эhээ чурапчыга сылдьан биллим', 'я тож хочу такого друга итинник баи дии мин билсибиттэрим бары хайаанда встреча ирдииллэр олиһин кэлин эппиэттээбэт буолан хаалабын', 'тапсыбат буоллаххытына барын туспа от греха подальше мало ли пьяная сможет натворить или закодируйте арыгыьыт киьи дьону эрэ сордуур', 'главное признала свою ошибку буо в будщем оннук гыныа суога сорох сыыьаларын да билиммэт дьоннор бааллар так что молодец', 'а дипломная работа пишется за дня диэн мээнэгэ эппэтэхтэр ровна оччо кун наада норм дипломка суруйарга', 'кырбаныахтаагын да аата сурун за что такое можно заслужить мин ойбор баппар ол холобур', 'кырбаныахтаагын да аата сурун за что такое можно заслужить мин ойбор баппар ол холобур', 'как можно любить мужа и общаться с другим суруйума диэ да бүттэҕэ ди в чем проблема то', 'инин араас коммент боото биир киьи олохтуун дааны нехуй каблук надевать диебит бта а так билигин аппааьынай буолбут аьаа', 'арааскыта варя диэн кыыскын бһх бта любопытной варваре на базаре нос оторвали', 'ооо дьэээ привет эн деревняттан сылдьан да оскуолатыгар уорэммитин даже имя скажи как ее зовут самый банальный да буоллун диалог начат', 'ира ытаама куттаныма игин учугэйдик сылдьан кэлээр улыбнись к миру и все мы тебя любим бэрт хара аатыттан сфоткайся в москве', 'эппиэттээмэ ээ просто смска только это тебе зачем наьаа учугэй буотах да таптыыр киьилээх сылдьарын чем одна интириэьинэй эбит', 'эппиэттээмэ ээ просто смска только это тебе зачем наьаа учугэй буотах да таптыыр киьилээх сылдьарын чем одна интириэьинэй эбит', 'значит ты не уверен в себе ол тугу да сатаабаппын диэннин бэйэ то5о баттаатын разве поздно начать все с начала', 'с кылаастар кып-кыралар буотахтар ээ уже лет не ниже см рост билинни о5олор гонор бо5о буоллахтара дии', 'с кылаастар кып-кыралар буотахтар ээ уже лет не ниже см рост билинни о5олор гонор бо5о буоллахтара дии', 'подругам кырбанна уьу оссо заявления суруйарыгар эн суруйдаххына уорэххиттэн ууруллэ дииллэрэр хайда пздц до такой степени сурэ ьохтар', 'айыы дааны кырбаттар буолан туьэн зачем нй опускаться до этого ону маны санарыман эрэ дьоннор', 'айыы дааны кырбаттар буолан туьэн зачем нй опускаться до этого ону маны санарыман эрэ дьоннор', 'надеюсь автор не моя подруга или это ты биллээр эрэ эн буоллаххына', 'улахан э сыл улахан лучше найди молодого младше тебя ити киьин эрдэ туеьэйиэ заебешся саа ыраастан быра кинини', 'дьаабыланыман эрэ причем тут это о5о дьол бо бэйэлэрэ ба5аларынан о5олонобут диэн быьаарыннахтара ди тоадьаххай мээнэ мээнэ', 'дьаабыланыман эрэ причем тут это о5о дьол бо бэйэлэрэ ба5аларынан о5олонобут диэн быьаарыннахтара ди тоадьаххай мээнэ мээнэ', 'пожалуйста анонимно я не допущена к экзамену баллов не хватило если я после нг на туттардахпа стипендия ылар буолабын да ьох ду', 'айуу айа не накручивай себе всё так сложно буолан миэхэ дипломна суруйан биэр вот это уж точно сложно', 'айуу айа не накручивай себе всё так сложно буолан миэхэ дипломна суруйан биэр вот это уж точно сложно', 'збл что было то объясните кто нибудь тох ааттаах куоталаьа куоталаьа уохсэ', 'а типа мьм ясно понятно игн диэн суруйар дьону этэгин да', 'дьэ бу олох сеп этии главное мозг бо ити харчы эрэ иьин сымыанан уерэх игин дииллэр араас закон арыйаллар', 'дьэ бу олох сеп этии главное мозг бо ити харчы эрэ иьин сымыанан уерэх игин дииллэр араас закон арыйаллар', 'дьаабы уол эбит дьэ знаю я одного такого бесит прям того дакаастыы сатаатын сырыттын дальше дьаабылана огогун бэйэн да иитиэн', 'дьаабы уол эбит дьэ знаю я одного такого бесит прям того дакаастыы сатаатын сырыттын дальше дьаабылана огогун бэйэн да иитиэн', 'явно тугу эрэ кими эрэ кистиир если любишь то не надо копаться дии саныыбын мин', 'чэ буоллун ээ можно понять человек получает уже третье высшее а грамматикаҕа нормально школаҕа эрэ бтта', 'у меня за минуты включается саамай уьаабыта ол аата прошивкан пайката хайдах эрэ буолбут эбит', 'туохха ыксаатыҥ кэмэ кэллэҕинэ таптал кэлиэ зато любовь одна и на всю жизнь боло бо хата доҕотторгун кытта оонньоон хаал', 'мария винокурова привет как дела зам буолуоххуттан группа тугу да гымматаххын дии саатар дьоннорбут эбиллибэтэхтэр', 'рассказывай друзьям они точно помогут уонна кимиэхэ эмит обещайдатахха уже сыаллаах курдук сананагын', 'до5ор диэн раз и навсегда бо онтон таптала хаста кэлиэ барыа биллибэт мин да до5отторбун талыам этэ кэргэннэниэ буолла уол сааьыгар дылы уол', 'до5ор диэн раз и навсегда бо онтон таптала хаста кэлиэ барыа биллибэт мин да до5отторбун талыам этэ кэргэннэниэ буолла уол сааьыгар дылы уол', 'люди меняются после армии а после тюрьмы явно оссо улларыйыа дьи олох учугэйдик толкуйдан оссо да эдэргин быьылаах дьи']\n"
     ]
    }
   ],
   "source": [
    "for lang in 'ba tt udm sah'.split():\n",
    "    print(mixed[lang][:50])"
   ]
  },
  {
   "cell_type": "code",
   "execution_count": 378,
   "metadata": {},
   "outputs": [],
   "source": [
    "lexicon = open('1grams-3.txt', encoding='utf-8').read().split('\\n')\n",
    "lexicon = set([word.split('\\t')[1].lower() for word in lexicon[:4000]])"
   ]
  },
  {
   "cell_type": "code",
   "execution_count": 425,
   "metadata": {},
   "outputs": [],
   "source": [
    "all_contexts = []\n",
    "for lang in 'ba tt udm sah'.split():\n",
    "    with open('{}_contexts.txt'.format(lang), 'w', encoding='utf-8') as f_out:\n",
    "        all_contexts.extend(contexts_1[lang])\n",
    "        for item in Counter(contexts_1[lang]).most_common(100):\n",
    "            if item[0] in lexicon:\n",
    "                #print(item[0], lang)\n",
    "                f_out.write(item[0] + '\\n')\n",
    "with open('all_contexts.txt', 'w', encoding='utf-8') as f_out:\n",
    "    for item in Counter(contexts_1[lang]).most_common():\n",
    "        if item[0] in lexicon:\n",
    "            f_out.write(item[0] + '\\n')"
   ]
  },
  {
   "cell_type": "code",
   "execution_count": 641,
   "metadata": {},
   "outputs": [
    {
     "name": "stdout",
     "output_type": "stream",
     "text": [
      "[('а', 150),\n",
      " ('инде', 75),\n",
      " ('ине', 65),\n",
      " ('ул', 58),\n",
      " ('и', 56),\n",
      " ('ни', 45),\n",
      " ('бит', 45),\n",
      " ('тип', 45),\n",
      " ('был', 44),\n",
      " ('за', 41),\n",
      " ('не', 39),\n",
      " ('мин', 38),\n",
      " ('бар', 35),\n",
      " ('бер', 31),\n",
      " ('инем', 30),\n",
      " ('или', 29),\n",
      " ('але', 27),\n",
      " ('ла', 26),\n",
      " ('тоже', 26),\n",
      " ('була', 24),\n",
      " ('хин', 24),\n",
      " ('минен', 24),\n",
      " ('вообще', 20),\n",
      " ('ней', 20),\n",
      " ('то', 19),\n",
      " ('м', 18),\n",
      " ('былай', 18),\n",
      " ('может', 16),\n",
      " ('егет', 16),\n",
      " ('тиган', 15),\n",
      " ('вот', 15),\n",
      " ('только', 15),\n",
      " ('еще', 15),\n",
      " ('лучше', 15),\n",
      " ('нима', 14),\n",
      " ('ну', 14),\n",
      " ('все', 13),\n",
      " ('алла', 13),\n",
      " ('я', 13),\n",
      " ('юк', 13),\n",
      " ('йорой', 12),\n",
      " ('мн', 12),\n",
      " ('это', 12),\n",
      " ('мы', 12),\n",
      " ('так', 12),\n",
      " ('тей', 12),\n",
      " ('как', 11),\n",
      " ('унда', 11),\n",
      " ('тора', 11),\n",
      " ('хоть', 11)]\n",
      "[('инде', 47),\n",
      " ('эле', 39),\n",
      " ('ул', 29),\n",
      " ('и', 29),\n",
      " ('иде', 26),\n",
      " ('мин', 25),\n",
      " ('бит', 24),\n",
      " ('да', 22),\n",
      " ('а', 19),\n",
      " ('идем', 19),\n",
      " ('бар', 18),\n",
      " ('кирэк', 17),\n",
      " ('э', 14),\n",
      " ('дип', 13),\n",
      " ('не', 13),\n",
      " ('че', 12),\n",
      " ('юк', 12),\n",
      " ('монда', 12),\n",
      " ('син', 12),\n",
      " ('сон', 11),\n",
      " ('тоже', 11),\n",
      " ('була', 11),\n",
      " ('ты', 11),\n",
      " ('я', 10),\n",
      " ('бу', 10),\n",
      " ('минем', 10),\n",
      " ('без', 10),\n",
      " ('ич', 9),\n",
      " ('тугел', 9),\n",
      " ('уже', 9),\n",
      " ('ни', 9),\n",
      " ('бн', 8),\n",
      " ('что', 8),\n",
      " ('икэн', 8),\n",
      " ('тора', 8),\n",
      " ('аны', 8),\n",
      " ('мина', 7),\n",
      " ('кеше', 7),\n",
      " ('ярамый', 7),\n",
      " ('андый', 7),\n",
      " ('бер', 7),\n",
      " ('если', 7),\n",
      " ('мине', 7),\n",
      " ('бармы', 7),\n",
      " ('дэ', 7),\n",
      " ('но', 7),\n",
      " ('очень', 6),\n",
      " ('лучше', 6),\n",
      " ('ана', 6),\n",
      " ('только', 6)]\n",
      "[('но', 22),\n",
      " ('а', 20),\n",
      " ('на', 15),\n",
      " ('со', 12),\n",
      " ('ни', 12),\n",
      " ('вал', 11),\n",
      " ('я', 9),\n",
      " ('мон', 9),\n",
      " ('ик', 9),\n",
      " ('в', 9),\n",
      " ('и', 9),\n",
      " ('ну', 7),\n",
      " ('они', 6),\n",
      " ('ке', 6),\n",
      " ('да', 5),\n",
      " ('ты', 5),\n",
      " ('тон', 5),\n",
      " ('ини', 5),\n",
      " ('овол', 5),\n",
      " ('вы', 4),\n",
      " ('как', 4),\n",
      " ('манет', 4),\n",
      " ('то', 4),\n",
      " ('так', 4),\n",
      " ('он', 4),\n",
      " ('что', 4),\n",
      " ('тау', 4),\n",
      " ('дыр', 3),\n",
      " ('учке', 3),\n",
      " ('соку', 3),\n",
      " ('ай', 3),\n",
      " ('не', 3),\n",
      " ('вань', 3),\n",
      " ('вот', 3),\n",
      " ('уг', 3),\n",
      " ('луэ', 3),\n",
      " ('мы', 3),\n",
      " ('мынам', 3),\n",
      " ('ваньды', 3),\n",
      " ('меда', 2),\n",
      " ('кельше', 2),\n",
      " ('плести', 2),\n",
      " ('татын', 2),\n",
      " ('вуэ', 2),\n",
      " ('кошкиз', 2),\n",
      " ('та', 2),\n",
      " ('гинэ', 2),\n",
      " ('нош', 2),\n",
      " ('кенеша', 2),\n",
      " ('уже', 2)]\n",
      "[('да', 322),\n",
      " ('а', 250),\n",
      " ('этэ', 221),\n",
      " ('диэн', 196),\n",
      " ('дии', 194),\n",
      " ('ол', 166),\n",
      " ('бо', 158),\n",
      " ('ээ', 142),\n",
      " ('эрэ', 128),\n",
      " ('ди', 120),\n",
      " ('буо', 113),\n",
      " ('киьи', 98),\n",
      " ('боло', 98),\n",
      " ('так', 94),\n",
      " ('эбит', 92),\n",
      " ('ду', 87),\n",
      " ('мин', 82),\n",
      " ('буолла', 79),\n",
      " ('игин', 73),\n",
      " ('курдук', 73),\n",
      " ('ини', 70),\n",
      " ('уонна', 69),\n",
      " ('или', 69),\n",
      " ('суох', 66),\n",
      " ('баран', 66),\n",
      " ('наада', 60),\n",
      " ('буолуо', 57),\n",
      " ('олох', 57),\n",
      " ('дьи', 57),\n",
      " ('и', 53),\n",
      " ('ити', 51),\n",
      " ('дуо', 50),\n",
      " ('эмиэ', 48),\n",
      " ('биир', 48),\n",
      " ('я', 47),\n",
      " ('эн', 46),\n",
      " ('оннук', 46),\n",
      " ('ботах', 44),\n",
      " ('это', 42),\n",
      " ('дьэ', 39),\n",
      " ('сох', 38),\n",
      " ('батта', 36),\n",
      " ('диэ', 36),\n",
      " ('не', 36),\n",
      " ('соп', 35),\n",
      " ('инник', 35),\n",
      " ('дуу', 35),\n",
      " ('баар', 34),\n",
      " ('на', 34),\n",
      " ('э', 34)]\n"
     ]
    }
   ],
   "source": [
    "total_counter = Counter()\n",
    "for lang in 'ba tt udm sah'.split():\n",
    "    pprint(Counter(contexts_1[lang]).most_common(50))\n",
    "    #total_counter += Counter(contexts_1[lang])\n",
    "#pprint(total_counter.most_common(100))"
   ]
  },
  {
   "cell_type": "code",
   "execution_count": 69,
   "metadata": {},
   "outputs": [],
   "source": [
    "from gensim.models import KeyedVectors"
   ]
  },
  {
   "cell_type": "code",
   "execution_count": 70,
   "metadata": {},
   "outputs": [],
   "source": [
    "vecs = KeyedVectors.load_word2vec_format('ruscorpora_upos_skipgram_300_5_2018.vec', binary=False)"
   ]
  },
  {
   "cell_type": "code",
   "execution_count": 91,
   "metadata": {},
   "outputs": [],
   "source": [
    "tags_conv = {}\n",
    "for line in open('ru-rnc.map', encoding='utf-8').read().split('\\n'):\n",
    "    line = line.split('\\t')\n",
    "    tags_conv[line[0]] = line[1]"
   ]
  },
  {
   "cell_type": "code",
   "execution_count": 428,
   "metadata": {},
   "outputs": [
    {
     "name": "stderr",
     "output_type": "stream",
     "text": [
      "c:\\users\\milik\\appdata\\local\\programs\\python\\python36\\lib\\site-packages\\ipykernel_launcher.py:11: DeprecationWarning: Call to deprecated `wv` (Attribute will be removed in 4.0.0, use self instead).\n",
      "  # This is added back by InteractiveShellApp.init_path()\n",
      "c:\\users\\milik\\appdata\\local\\programs\\python\\python36\\lib\\site-packages\\ipykernel_launcher.py:16: DeprecationWarning: Call to deprecated `wv` (Attribute will be removed in 4.0.0, use self instead).\n",
      "  app.launch_new_instance()\n",
      "c:\\users\\milik\\appdata\\local\\programs\\python\\python36\\lib\\site-packages\\ipykernel_launcher.py:17: DeprecationWarning: Call to deprecated `wv` (Attribute will be removed in 4.0.0, use self instead).\n"
     ]
    }
   ],
   "source": [
    "vectors = []\n",
    "words = []\n",
    "with open('final/vectors.tsv'.format(lang), 'w', encoding='utf-8') as v_out:\n",
    "    with open('final/metadata.tsv'.format(lang), 'w', encoding='utf-8') as m_out:\n",
    "        m_out.write('word\\tpos\\tlang\\n')\n",
    "        for lang in 'all'.split():\n",
    "            lemmas = open('{}_contexts_lem.txt'.format(lang), encoding='utf-8').read().split('\\n')\n",
    "            lemmas = [lemma.split('|')[0] for lemma in lemmas]\n",
    "            #pprint(lemmas)\n",
    "            lemmas = [re.match('(.+)=[A-Z]+.*', lemma).group(1) + '_' + tags_conv[re.match('.+=([A-Z]+).*', lemma).group(1)] for lemma in lemmas if re.match('.+=([A-Z]+).*', lemma) is not None]\n",
    "            lemmas = [lemma for lemma in lemmas if lemma in vecs.wv]\n",
    "            lemmas = list(OrderedDict.fromkeys(lemmas))\n",
    "            lemmas = [lemma for lemma in lemmas if lemma.split('_')[1] == 'VERB']\n",
    "            for lemma in lemmas[:20]:\n",
    "                words.append(lemma)\n",
    "                vectors.append(vecs.wv[lemma])\n",
    "                v_out.write(np.array2string(vecs.wv[lemma], separator='\\t', max_line_width=99999999).strip('[ ]') + '\\n')\n",
    "                m_out.write(lemma.split('_')[0] + '\\t' + lemma.split('_')[1] + '\\t' + lang + '\\n')"
   ]
  },
  {
   "cell_type": "code",
   "execution_count": 429,
   "metadata": {},
   "outputs": [
    {
     "data": {
      "text/plain": [
       "KMeans(algorithm='auto', copy_x=True, init='k-means++', max_iter=300,\n",
       "    n_clusters=4, n_init=10, n_jobs=1, precompute_distances='auto',\n",
       "    random_state=123, tol=0.0001, verbose=0)"
      ]
     },
     "execution_count": 429,
     "metadata": {},
     "output_type": "execute_result"
    }
   ],
   "source": [
    "kmeans = KMeans(random_state=123, n_clusters=4)\n",
    "vectors = np.array(vectors)\n",
    "kmeans.fit(vectors)"
   ]
  },
  {
   "cell_type": "code",
   "execution_count": 430,
   "metadata": {},
   "outputs": [
    {
     "name": "stdout",
     "output_type": "stream",
     "text": [
      "defaultdict(<class 'list'>,\n",
      "            {0: ['понимать_VERB',\n",
      "                 'бросать_VERB',\n",
      "                 'находить_VERB',\n",
      "                 'подумать_VERB',\n",
      "                 'становиться_VERB',\n",
      "                 'сказать_VERB',\n",
      "                 'говорить_VERB'],\n",
      "             1: ['жить_VERB',\n",
      "                 'носить_VERB',\n",
      "                 'любить_VERB',\n",
      "                 'бывать_VERB',\n",
      "                 'знать_VERB',\n",
      "                 'умирать_VERB',\n",
      "                 'пить_VERB'],\n",
      "             2: ['мочь_VERB', 'хотеть_VERB', 'бороться_VERB', 'платить_VERB'],\n",
      "             3: ['писать_VERB', 'написать_VERB']})\n"
     ]
    }
   ],
   "source": [
    "clusters = defaultdict(list)\n",
    "kmeans_labels = kmeans.labels_.tolist()\n",
    "for i in range(len(words)):\n",
    "    clusters[kmeans_labels[i]].append(words[i])\n",
    "pprint(clusters)"
   ]
  },
  {
   "cell_type": "code",
   "execution_count": 33,
   "metadata": {},
   "outputs": [
    {
     "name": "stdout",
     "output_type": "stream",
     "text": [
      "Totaling 83656 texts\n",
      "Wall time: 2min 11s\n"
     ]
    }
   ],
   "source": [
    "%%time\n",
    "TEXT_DATA = 'tat_comments_tokenized_10more.txt'\n",
    "texts = open(TEXT_DATA, encoding='utf-8').read().split('\\n')\n",
    "print('Totaling {} texts'.format(len(texts)))\n",
    "detected = []\n",
    "for text in texts:\n",
    "    detected.append(predict_language(crf, text))"
   ]
  },
  {
   "cell_type": "code",
   "execution_count": 48,
   "metadata": {},
   "outputs": [
    {
     "data": {
      "text/plain": [
       "[('дуслар', 'tt'),\n",
       " ('чакырыгыз', 'tt'),\n",
       " ('алырны', 'tt'),\n",
       " ('туйларызга', 'tt'),\n",
       " ('бик', 'tt'),\n",
       " ('яхшы', 'tt'),\n",
       " ('алып', 'tt'),\n",
       " ('баралар', 'tt'),\n",
       " ('бик', 'tt'),\n",
       " ('зур', 'tt'),\n",
       " ('рэхмэт', 'tt'),\n",
       " ('бик', 'tt'),\n",
       " ('ошады', 'tt'),\n",
       " ('безгэ', 'tt'),\n",
       " ('хэм', 'tt'),\n",
       " ('кунакларга', 'tt'),\n",
       " ('молодцы', 'ru')]"
      ]
     },
     "execution_count": 48,
     "metadata": {},
     "output_type": "execute_result"
    }
   ],
   "source": [
    "new_detected[0]"
   ]
  },
  {
   "cell_type": "code",
   "execution_count": 46,
   "metadata": {},
   "outputs": [],
   "source": [
    "new_detected = []\n",
    "for s in detected:\n",
    "    temp_s = []\n",
    "    for t in s:\n",
    "        if t[1] != 'ru':\n",
    "            temp_s.append((t[0], 'tt'))\n",
    "        else:\n",
    "            temp_s.append(t)\n",
    "    new_detected.append(temp_s)\n",
    "    temp_s = []"
   ]
  },
  {
   "cell_type": "code",
   "execution_count": 49,
   "metadata": {},
   "outputs": [],
   "source": [
    "DETECTED_FILE = 'smooth_detected_comments.tsv'\n",
    "with open(DETECTED_FILE, 'w', encoding='utf-8') as df:\n",
    "    for s in new_detected:\n",
    "        df.write('\\n'.join(['\\t'.join([i for i in t]) for t in s]))\n",
    "        df.write('\\n\\n')"
   ]
  }
 ],
 "metadata": {
  "kernelspec": {
   "display_name": "Python 3",
   "language": "python",
   "name": "python3"
  },
  "language_info": {
   "codemirror_mode": {
    "name": "ipython",
    "version": 3
   },
   "file_extension": ".py",
   "mimetype": "text/x-python",
   "name": "python",
   "nbconvert_exporter": "python",
   "pygments_lexer": "ipython3",
   "version": "3.6.4"
  }
 },
 "nbformat": 4,
 "nbformat_minor": 2
}
